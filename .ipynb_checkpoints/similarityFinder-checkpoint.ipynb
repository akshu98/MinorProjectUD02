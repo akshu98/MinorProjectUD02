{
 "cells": [
  {
   "cell_type": "code",
   "execution_count": 2,
   "metadata": {
    "colab": {},
    "colab_type": "code",
    "collapsed": true,
    "id": "BcAVyAS5Lllf"
   },
   "outputs": [],
   "source": [
    "import pandas as pd\n",
    "import math\n",
    "from newspaper import Article\n",
    "import re\n",
    "from nltk.stem import WordNetLemmatizer \n",
    "from nltk.corpus import stopwords\n",
    "from collections import Counter\n",
    "from sklearn.metrics.pairwise import cosine_similarity\n",
    "import numpy as np\n",
    "from sklearn.feature_extraction.text import TfidfVectorizer\n",
    "from sklearn.metrics.pairwise import linear_kernel"
   ]
  },
  {
   "cell_type": "code",
   "execution_count": 3,
   "metadata": {
    "colab": {},
    "colab_type": "code",
    "id": "Sfc2BjJrLlls",
    "scrolled": true
   },
   "outputs": [],
   "source": [
    "data = pd.read_csv(\"Main.csv\")\n",
    "df1= pd.DataFrame(data)\n",
    "#print(file)\n",
    "#df.head()\n",
    "\n",
    "links= df1[\"Links\"]\n",
    "#(len(links))\n",
    "#links\n",
    "#df1.isnull().values.any()\n",
    "df1.dropna(subset = [\"Links\"], inplace=True)\n",
    "titles=[]\n",
    "text=[]\n",
    "for url in links:\n",
    "   # print(url)\n",
    "    news_article = Article(url,encoding='utf-8')\n",
    "    news_article.download() \n",
    "    news_article.parse() \n",
    "    news_article.nlp()\n",
    "    titles.append(news_article.title)\n",
    "    text.append(news_article.text)\n",
    "df1[\"Title\"]=titles\n",
    "df1[\"Text\"]=text\n",
    "\n",
    "df1\n",
    "   # df2=pd.DataFrame({'Title':news_article.title})\n",
    "    #df1[\"Title\"]=df1[\"Title\"].append(pd.DataFrame(news_article.title), ignore_index=True)\n",
    "#df2.head()\n",
    "\n",
    "df1.to_csv(\"news articles/parsed_news_articles.csv\",encoding=\"utf-8\")\n"
   ]
  },
  {
   "cell_type": "code",
   "execution_count": 0,
   "metadata": {
    "colab": {},
    "colab_type": "code",
    "collapsed": true,
    "id": "GBnsI2hHLll0"
   },
   "outputs": [],
   "source": [
    "def preprocessor(df):\n",
    "    lemmatizer = WordNetLemmatizer() \n",
    "    stop_words = stopwords.words('english')\n",
    "    text=df['Text']\n",
    "    titles=df['Title']\n",
    "    cleanedArticles=[]\n",
    "    spcl= '[-,;@_!#$%^&*()<>?/\\|}{~:''.+]'\n",
    "    for i in text:\n",
    "        i = i.lower()\n",
    "        i = re.sub(r'[^\\x00-\\x7F]+',' ', i)\n",
    "        i = re.sub('^a-z0-9',' ',i)\n",
    "        i = re.sub(spcl,' ',i)\n",
    "        i = re.sub('[0-9]',' ',i)\n",
    "        i = re.sub('\\n\\n',' ',i)\n",
    "        i = re.sub('\\s\\s',' ',i)\n",
    "        v = i.split(' ')\n",
    "        v = [word for word in v if word not in stop_words]\n",
    "        v = [lemmatizer.lemmatize(word) for word in v]\n",
    "        temp = ' '.join(v)\n",
    "        cleanedArticles.append(temp)\n",
    "    return cleanedArticles"
   ]
  },
  {
   "cell_type": "code",
   "execution_count": 0,
   "metadata": {
    "colab": {},
    "colab_type": "code",
    "collapsed": true,
    "id": "g9aLXyR7Lll5"
   },
   "outputs": [],
   "source": [
    "cleanedArticles=preprocessor(df)"
   ]
  },
  {
   "cell_type": "code",
   "execution_count": 0,
   "metadata": {
    "colab": {},
    "colab_type": "code",
    "collapsed": true,
    "id": "GDt5Y9RTLll-"
   },
   "outputs": [],
   "source": [
    "#Testing\n",
    "f = open(\"news articles/test_articles.txt\",\"r\")\n",
    "LOA = [line.rstrip() for line in f]\n",
    "test_df = pd.DataFrame(columns = ['Title','Text'])\n",
    "for url in LOA: \n",
    "    news_article = Article(url, language=\"en\")     \n",
    "    news_article.download() \n",
    "    news_article.parse() \n",
    "    news_article.nlp() \n",
    "    df2={'Title':news_article.title,'Text':news_article.text}\n",
    "    test_df=test_df.append(df2,ignore_index=True)\n",
    "\n",
    "test_df.to_csv(\"news articles/parsed_test_articles.csv\",encoding=\"utf-8\")\n",
    "cleanedTestArticles=preprocessor(test_df)"
   ]
  },
  {
   "cell_type": "code",
   "execution_count": 0,
   "metadata": {
    "colab": {},
    "colab_type": "code",
    "collapsed": true,
    "id": "_eR_Ax6DLlmE"
   },
   "outputs": [],
   "source": [
    "def vectorize_sim_search(query, data):\n",
    "    \"\"\"\n",
    "    query: `str`\n",
    "    data: `list` of strings\n",
    "    stop_words: `list` of stop words (default is \"english\" from SKlearn)\n",
    "    \n",
    "    Returns:\n",
    "    cos_sim: first element from `cosine_similarity` array\n",
    "    tfidf_vectorizer: `TfidfVectorizer object`\n",
    "    data: updated `data` with `query` in position 0\n",
    "    \"\"\"\n",
    "    #Inserting query in list position 0\n",
    "    cos_sim=[]\n",
    "    data = query + cleanedArticles\n",
    "    tfidf_vectorizer = TfidfVectorizer()\n",
    "    tfidf_matrix = tfidf_vectorizer.fit_transform(data)\n",
    "    for i in range(len(query)):\n",
    "        val = cosine_similarity(tfidf_matrix[i], tfidf_matrix)\n",
    "        cos_sim.append(val)\n",
    "    return cos_sim"
   ]
  },
  {
   "cell_type": "code",
   "execution_count": 0,
   "metadata": {
    "colab": {},
    "colab_type": "code",
    "id": "_QpRHNFLLlmJ",
    "outputId": "6b613458-70e7-45e0-d3dc-b4c4126cf3e2"
   },
   "outputs": [
    {
     "data": {
      "text/plain": [
       "[array([[1.        , 0.04273455, 0.06167823]])]"
      ]
     },
     "execution_count": 84,
     "metadata": {
      "tags": []
     },
     "output_type": "execute_result"
    }
   ],
   "source": [
    "cos_sim=vectorize_sim_search(cleanedTestArticles,cleanedArticles)\n",
    "cos_sim"
   ]
  }
 ],
 "metadata": {
  "colab": {
   "name": "similarityFinder.ipynb",
   "provenance": []
  },
  "kernelspec": {
   "display_name": "Python 3",
   "language": "python",
   "name": "python3"
  },
  "language_info": {
   "codemirror_mode": {
    "name": "ipython",
    "version": 3
   },
   "file_extension": ".py",
   "mimetype": "text/x-python",
   "name": "python",
   "nbconvert_exporter": "python",
   "pygments_lexer": "ipython3",
   "version": "3.7.4"
  }
 },
 "nbformat": 4,
 "nbformat_minor": 1
}
