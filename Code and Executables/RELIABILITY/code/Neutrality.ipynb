{
 "cells": [
  {
   "cell_type": "code",
   "execution_count": 1,
   "metadata": {},
   "outputs": [],
   "source": [
    "import pandas as pd\n",
    "import re\n",
    "import nltk\n",
    "from nltk.stem import WordNetLemmatizer \n",
    "from nltk.corpus import stopwords\n",
    "from nltk.corpus import words\n",
    "from nltk.corpus import wordnet \n",
    "from collections import Counter,OrderedDict\n",
    "from sklearn.metrics.pairwise import cosine_similarity\n",
    "from nltk.tokenize import sent_tokenize,word_tokenize\n",
    "import numpy as np\n",
    "from sklearn.feature_extraction.text import TfidfVectorizer\n",
    "from sklearn.metrics.pairwise import linear_kernel\n",
    "import enchant\n",
    "from vaderSentiment.vaderSentiment import SentimentIntensityAnalyzer\n",
    "from newspaper import Article\n",
    "import statistics\n",
    "from sklearn.preprocessing import MinMaxScaler"
   ]
  },
  {
   "cell_type": "code",
   "execution_count": 2,
   "metadata": {},
   "outputs": [],
   "source": [
    "caacluster0=pd.DataFrame(pd.read_csv(\"../data/caa_nrc_cluster_0.csv\"))\n",
    "caacluster1=pd.DataFrame(pd.read_csv(\"../data/caa_nrc_cluster_1.csv\"))\n",
    "caacluster2=pd.DataFrame(pd.read_csv(\"../data/caa_nrc_cluster_2.csv\"))\n",
    "covidcluster0=pd.DataFrame(pd.read_csv(\"../data/covid_cluster_0.csv\"))\n",
    "covidcluster1=pd.DataFrame(pd.read_csv(\"../data/covid_cluster_1.csv\"))\n",
    "covidcluster2=pd.DataFrame(pd.read_csv(\"../data/covid_cluster_2.csv\"))"
   ]
  },
  {
   "cell_type": "code",
   "execution_count": 3,
   "metadata": {},
   "outputs": [],
   "source": [
    "caacluster0['Text']=caacluster0['Text'].astype(str)\n",
    "caacluster1['Text']=caacluster1['Text'].astype(str)\n",
    "caacluster2['Text']=caacluster2['Text'].astype(str)\n",
    "covidcluster0['Text']=covidcluster0['Text'].astype(str)\n",
    "covidcluster1['Text']=covidcluster1['Text'].astype(str)\n",
    "covidcluster2['Text']=covidcluster2['Text'].astype(str)"
   ]
  },
  {
   "cell_type": "code",
   "execution_count": 4,
   "metadata": {},
   "outputs": [],
   "source": [
    "caaArticles0=[]\n",
    "caaArticles1=[]\n",
    "caaArticles2=[]\n",
    "covidArticles0=[]\n",
    "covidArticles1=[]\n",
    "covidArticles2=[]\n",
    "for i in caacluster0.index:\n",
    "    text=caacluster0['Text'][i]\n",
    "    caaArticles0.append(text)\n",
    "for i in caacluster1.index:\n",
    "    text=caacluster1['Text'][i]\n",
    "    caaArticles1.append(text)\n",
    "for i in caacluster2.index:\n",
    "    text=caacluster2['Text'][i]\n",
    "    caaArticles2.append(text)\n",
    "for i in covidcluster0.index:\n",
    "    text=covidcluster0['Text'][i]\n",
    "    covidArticles0.append(text)\n",
    "for i in covidcluster1.index:\n",
    "    text=covidcluster1['Text'][i]\n",
    "    covidArticles1.append(text)\n",
    "for i in covidcluster2.index:\n",
    "    text=covidcluster2['Text'][i]\n",
    "    covidArticles2.append(text)"
   ]
  },
  {
   "cell_type": "code",
   "execution_count": 5,
   "metadata": {},
   "outputs": [],
   "source": [
    "def sentiment_scores(text): \n",
    "    #print(index)\n",
    "    # Create a SentimentIntensityAnalyzer object. \n",
    "    sid_obj = SentimentIntensityAnalyzer() \n",
    "  \n",
    "    # polarity_scores method of SentimentIntensityAnalyzer \n",
    "    # oject gives a sentiment dictionary. \n",
    "    # which contains pos, neg, neu, and compound scores. \n",
    "    sentiment_dict = sid_obj.polarity_scores(text) \n",
    "    \n",
    "#     print(\"text Overall Rated As\", end = \" \") \n",
    "  \n",
    "#     # decide sentiment as positive, negative and neutral \n",
    "#     if sentiment_dict['compound'] >= 0.05 : \n",
    "#         print(\"Positive\",index) \n",
    "  \n",
    "#     elif sentiment_dict['compound'] <= - 0.05 : \n",
    "#         print(\"Negative\",index) \n",
    "  \n",
    "#     else : \n",
    "#         print(\"Neutral\",index) \n",
    "#     print(\"\\n\")\n",
    "    \n",
    "    return sentiment_dict['compound']"
   ]
  },
  {
   "cell_type": "code",
   "execution_count": 6,
   "metadata": {},
   "outputs": [],
   "source": [
    "class SentimentAnalyser():\n",
    "\n",
    "    scaleMin=-1.\n",
    "    scaleMax=1.\n",
    "\n",
    "    # Initializer / Instance attributes\n",
    "    def __init__(self, library):\n",
    "        if library=='vader':\n",
    "            self.analyser=NLTKVaderSentimentAnalyser()"
   ]
  },
  {
   "cell_type": "code",
   "execution_count": 7,
   "metadata": {},
   "outputs": [],
   "source": [
    "caacluster0[\"sentiment\"]=\"\"\n",
    "caacluster1[\"sentiment\"]=\"\"\n",
    "caacluster2[\"sentiment\"]=\"\"\n",
    "covidcluster0[\"sentiment\"]=\"\"\n",
    "covidcluster1[\"sentiment\"]=\"\"\n",
    "covidcluster2[\"sentiment\"]=\"\"\n",
    "\n",
    "for i in range(len(caaArticles0)):\n",
    "    article_title = caacluster0['Title'].iloc[i]\n",
    "    article_text = caacluster0['Text'].iloc[i]    \n",
    "    caacluster0['sentiment'][i] = sentiment_scores(article_text)\n",
    "for i in range(len(caaArticles1)):\n",
    "    article_title = caacluster1['Title'].iloc[i]\n",
    "    article_text = caacluster1['Text'].iloc[i]    \n",
    "    caacluster1['sentiment'][i] = sentiment_scores(article_text)\n",
    "for i in range(len(caaArticles2)):\n",
    "    article_title = caacluster2['Title'].iloc[i]\n",
    "    article_text = caacluster2['Text'].iloc[i]    \n",
    "    caacluster2['sentiment'][i] = sentiment_scores(article_text)\n",
    "for i in range(len(covidArticles0)):\n",
    "    article_title = covidcluster0['Title'].iloc[i]\n",
    "    article_text = covidcluster0['Text'].iloc[i]    \n",
    "    covidcluster0['sentiment'][i] = sentiment_scores(article_text)\n",
    "for i in range(len(covidArticles1)):\n",
    "    article_title =covidcluster1['Title'].iloc[i]\n",
    "    article_text = covidcluster1['Text'].iloc[i]    \n",
    "    covidcluster1['sentiment'][i] = sentiment_scores(article_text)\n",
    "for i in range(len(covidArticles2)):\n",
    "    article_title = covidcluster2['Title'].iloc[i]\n",
    "    article_text = covidcluster2['Text'].iloc[i]    \n",
    "    covidcluster2['sentiment'][i] = sentiment_scores(article_text)"
   ]
  },
  {
   "cell_type": "code",
   "execution_count": 8,
   "metadata": {},
   "outputs": [],
   "source": [
    "sentimentcaa0=caacluster0['sentiment']\n",
    "sentimentcaa1=caacluster1['sentiment']\n",
    "sentimentcaa2=caacluster2['sentiment']\n",
    "sentimentcovid0=covidcluster0['sentiment']\n",
    "sentimentcovid1=covidcluster1['sentiment']\n",
    "sentimentcovid2=covidcluster2['sentiment']"
   ]
  },
  {
   "cell_type": "code",
   "execution_count": 37,
   "metadata": {},
   "outputs": [],
   "source": [
    "def neutrality_score(articleScoreDict):\n",
    "    articleValues=articleScoreDict\n",
    "    neutrality=[]\n",
    "    a = np.asarray(articleValues)\n",
    "    s=np.reshape(a,(-1,1))\n",
    "    scaler = MinMaxScaler()\n",
    "    scaler.fit(s)\n",
    "    a=scaler.transform(s)\n",
    "   \n",
    "    mean=np.mean(a)\n",
    "    for i in a:\n",
    "        diff=(abs(mean-i)**2)\n",
    "        neutrality.append(diff)\n",
    "#     caacluster2['neutrality']=neutrality\n",
    "    covidcluster2['neutrality']=neutrality\n",
    "    \n",
    "    \n",
    "    \n",
    "#     caacluster2.to_csv(\"../data/caa_nrc_cluster_2.csv\") \n",
    "\n",
    "    covidcluster2.to_csv(\"../data/covid_cluster_2.csv\")"
   ]
  },
  {
   "cell_type": "code",
   "execution_count": 38,
   "metadata": {
    "scrolled": true
   },
   "outputs": [],
   "source": [
    "neutrality_score(sentimentcovid2)\n"
   ]
  }
 ],
 "metadata": {
  "kernelspec": {
   "display_name": "Python 3",
   "language": "python",
   "name": "python3"
  },
  "language_info": {
   "codemirror_mode": {
    "name": "ipython",
    "version": 3
   },
   "file_extension": ".py",
   "mimetype": "text/x-python",
   "name": "python",
   "nbconvert_exporter": "python",
   "pygments_lexer": "ipython3",
   "version": "3.7.4"
  }
 },
 "nbformat": 4,
 "nbformat_minor": 2
}
