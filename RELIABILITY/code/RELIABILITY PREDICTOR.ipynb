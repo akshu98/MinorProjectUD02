{
 "cells": [
  {
   "cell_type": "code",
   "execution_count": 201,
   "metadata": {},
   "outputs": [],
   "source": [
    "import pandas as pd\n",
    "from sklearn.preprocessing import MinMaxScaler\n",
    "import numpy as np\n",
    "from collections import Counter"
   ]
  },
  {
   "cell_type": "code",
   "execution_count": 189,
   "metadata": {},
   "outputs": [],
   "source": [
    "source_info = pd.read_csv('../data/SourceInfo.csv')\n",
    "caa_c0=pd.read_csv(\"../data/caa_nrc_cluster_0.csv\")\n",
    "caa_c1=pd.read_csv(\"../data/caa_nrc_cluster_1.csv\")\n",
    "caa_c2=pd.read_csv(\"../data/caa_nrc_cluster_2.csv\")\n",
    "covid_c0=pd.read_csv(\"../data/covid_cluster_0.csv\")\n",
    "covid_c1=pd.read_csv(\"../data/covid_cluster_1.csv\")\n",
    "covid_c2=pd.read_csv(\"../data/covid_cluster_2.csv\")\n",
    "original_parsed_data = pd.read_csv(\"../data/parsed_cleaned.csv\")\n",
    "strong_words_data = pd.read_csv(\"../data/StrongWordsAnalysis.csv\")"
   ]
  },
  {
   "cell_type": "code",
   "execution_count": 190,
   "metadata": {},
   "outputs": [],
   "source": [
    "articles_copy = caa_c0\n",
    "articles_copy = articles_copy.append([caa_c1,caa_c2,covid_c0,covid_c1,covid_c2])"
   ]
  },
  {
   "cell_type": "code",
   "execution_count": 207,
   "metadata": {},
   "outputs": [],
   "source": [
    "articles = []\n",
    "for i in original_parsed_data.index:\n",
    "    source=original_parsed_data['Source'].iloc[i]\n",
    "    title=original_parsed_data['Title'].iloc[i]\n",
    "    topic=original_parsed_data['Topic Name'].iloc[i]\n",
    "    text=original_parsed_data['Cleaned_text'].iloc[i]\n",
    "    source_reliability=source_info.loc[source_info['Source']==source,'SourceScore'].iloc[0]\n",
    "    strong_words_score = strong_words_data.loc[strong_words_data['Title']==title,'strongP'].iloc[0]\n",
    "    neutrality_score=articles_copy['neutrality'].iloc[i]\n",
    "    articles.append([source,title,topic,text,source_reliability,strong_words_score,neutrality_score])"
   ]
  },
  {
   "cell_type": "code",
   "execution_count": 209,
   "metadata": {},
   "outputs": [
    {
     "data": {
      "text/html": [
       "<div>\n",
       "<style scoped>\n",
       "    .dataframe tbody tr th:only-of-type {\n",
       "        vertical-align: middle;\n",
       "    }\n",
       "\n",
       "    .dataframe tbody tr th {\n",
       "        vertical-align: top;\n",
       "    }\n",
       "\n",
       "    .dataframe thead th {\n",
       "        text-align: right;\n",
       "    }\n",
       "</style>\n",
       "<table border=\"1\" class=\"dataframe\">\n",
       "  <thead>\n",
       "    <tr style=\"text-align: right;\">\n",
       "      <th></th>\n",
       "      <th>Source</th>\n",
       "      <th>Title</th>\n",
       "      <th>Topic Name</th>\n",
       "      <th>Cleaned Text</th>\n",
       "      <th>Source Score</th>\n",
       "      <th>Strong Words Score</th>\n",
       "      <th>Neutrality Score</th>\n",
       "    </tr>\n",
       "  </thead>\n",
       "  <tbody>\n",
       "    <tr>\n",
       "      <td>0</td>\n",
       "      <td>The Times of India</td>\n",
       "      <td>PM Modi, Amit Shah must engage in dialogue ove...</td>\n",
       "      <td>caa-nrc</td>\n",
       "      <td>download time news app latest news subscribe s...</td>\n",
       "      <td>1.0</td>\n",
       "      <td>0.047619</td>\n",
       "      <td>0.273091</td>\n",
       "    </tr>\n",
       "    <tr>\n",
       "      <td>1</td>\n",
       "      <td>The Times of India</td>\n",
       "      <td>Trump to discuss CAA, NRC issues with Modi dur...</td>\n",
       "      <td>caa-nrc</td>\n",
       "      <td>united state president trump prime minister fi...</td>\n",
       "      <td>1.0</td>\n",
       "      <td>0.157895</td>\n",
       "      <td>0.188507</td>\n",
       "    </tr>\n",
       "    <tr>\n",
       "      <td>2</td>\n",
       "      <td>The Times of India</td>\n",
       "      <td>Sonia Gandhi: PM Modi, Amit Shah misled people...</td>\n",
       "      <td>caa-nrc</td>\n",
       "      <td>download time news app latest news subscribe s...</td>\n",
       "      <td>1.0</td>\n",
       "      <td>0.094488</td>\n",
       "      <td>0.164222</td>\n",
       "    </tr>\n",
       "    <tr>\n",
       "      <td>3</td>\n",
       "      <td>The Times of India</td>\n",
       "      <td>I told PM Modi to withdraw CAA, NRC and NPR: M...</td>\n",
       "      <td>caa-nrc</td>\n",
       "      <td>download time news app latest news subscribe s...</td>\n",
       "      <td>1.0</td>\n",
       "      <td>0.000000</td>\n",
       "      <td>0.224548</td>\n",
       "    </tr>\n",
       "    <tr>\n",
       "      <td>4</td>\n",
       "      <td>The Times of India</td>\n",
       "      <td>PM Modi's visit to Bangladesh: Simmering tensi...</td>\n",
       "      <td>caa-nrc</td>\n",
       "      <td>prime minister file photo download time news a...</td>\n",
       "      <td>1.0</td>\n",
       "      <td>0.069231</td>\n",
       "      <td>0.271837</td>\n",
       "    </tr>\n",
       "  </tbody>\n",
       "</table>\n",
       "</div>"
      ],
      "text/plain": [
       "               Source                                              Title  \\\n",
       "0  The Times of India  PM Modi, Amit Shah must engage in dialogue ove...   \n",
       "1  The Times of India  Trump to discuss CAA, NRC issues with Modi dur...   \n",
       "2  The Times of India  Sonia Gandhi: PM Modi, Amit Shah misled people...   \n",
       "3  The Times of India  I told PM Modi to withdraw CAA, NRC and NPR: M...   \n",
       "4  The Times of India  PM Modi's visit to Bangladesh: Simmering tensi...   \n",
       "\n",
       "  Topic Name                                       Cleaned Text  Source Score  \\\n",
       "0    caa-nrc  download time news app latest news subscribe s...           1.0   \n",
       "1    caa-nrc  united state president trump prime minister fi...           1.0   \n",
       "2    caa-nrc  download time news app latest news subscribe s...           1.0   \n",
       "3    caa-nrc  download time news app latest news subscribe s...           1.0   \n",
       "4    caa-nrc  prime minister file photo download time news a...           1.0   \n",
       "\n",
       "   Strong Words Score  Neutrality Score  \n",
       "0            0.047619          0.273091  \n",
       "1            0.157895          0.188507  \n",
       "2            0.094488          0.164222  \n",
       "3            0.000000          0.224548  \n",
       "4            0.069231          0.271837  "
      ]
     },
     "execution_count": 209,
     "metadata": {},
     "output_type": "execute_result"
    }
   ],
   "source": [
    "articles_data = pd.DataFrame(articles,columns=[\"Source\",\"Title\",\"Topic Name\",\"Cleaned Text\",\"Source Score\",\"Strong Words Score\",\"Neutrality Score\"])\n",
    "articles_data.head()"
   ]
  },
  {
   "cell_type": "code",
   "execution_count": 210,
   "metadata": {},
   "outputs": [
    {
     "name": "stderr",
     "output_type": "stream",
     "text": [
      "C:\\Users\\vogir\\Anaconda3\\lib\\site-packages\\ipykernel_launcher.py:4: SettingWithCopyWarning: \n",
      "A value is trying to be set on a copy of a slice from a DataFrame\n",
      "\n",
      "See the caveats in the documentation: http://pandas.pydata.org/pandas-docs/stable/user_guide/indexing.html#returning-a-view-versus-a-copy\n",
      "  after removing the cwd from sys.path.\n"
     ]
    }
   ],
   "source": [
    "articles_data['Reliability Score']=\"\"\n",
    "for i in articles_data.index:\n",
    "    score = (1/3)*articles_data['Source Score'][i]+(1/3)*articles_data['Neutrality Score'][i]-(1/3)*articles_data['Strong Words Score'][i]\n",
    "    articles_data['Reliability Score'][i] = round(score,3)"
   ]
  },
  {
   "cell_type": "code",
   "execution_count": 211,
   "metadata": {},
   "outputs": [
    {
     "name": "stdout",
     "output_type": "stream",
     "text": [
      "[[0.93712575]\n",
      " [0.84131737]\n",
      " [0.86077844]\n",
      " ...\n",
      " [0.49251497]\n",
      " [0.5239521 ]\n",
      " [0.47005988]]\n"
     ]
    }
   ],
   "source": [
    "scores=np.reshape(np.asarray(articles_data['Reliability Score']),(-1,1))\n",
    "scaler = MinMaxScaler()\n",
    "scaler.fit(scores)\n",
    "scores=scaler.transform(scores)\n",
    "print(scores)\n",
    "\n",
    "articles_data['Reliability Score']=scores"
   ]
  },
  {
   "cell_type": "code",
   "execution_count": 212,
   "metadata": {},
   "outputs": [
    {
     "name": "stderr",
     "output_type": "stream",
     "text": [
      "C:\\Users\\vogir\\Anaconda3\\lib\\site-packages\\ipykernel_launcher.py:5: SettingWithCopyWarning: \n",
      "A value is trying to be set on a copy of a slice from a DataFrame\n",
      "\n",
      "See the caveats in the documentation: http://pandas.pydata.org/pandas-docs/stable/user_guide/indexing.html#returning-a-view-versus-a-copy\n",
      "  \"\"\"\n",
      "C:\\Users\\vogir\\Anaconda3\\lib\\site-packages\\ipykernel_launcher.py:7: SettingWithCopyWarning: \n",
      "A value is trying to be set on a copy of a slice from a DataFrame\n",
      "\n",
      "See the caveats in the documentation: http://pandas.pydata.org/pandas-docs/stable/user_guide/indexing.html#returning-a-view-versus-a-copy\n",
      "  import sys\n"
     ]
    }
   ],
   "source": [
    "articles_data['Reliability Label']=\"\"\n",
    "for i in articles_data.index:\n",
    "\n",
    "    if articles_data['Reliability Score'][i]>=0.60:\n",
    "        articles_data['Reliability Label'][i]='Reliable'\n",
    "    else:\n",
    "        articles_data['Reliability Label'][i]='Not Reliable'"
   ]
  },
  {
   "cell_type": "code",
   "execution_count": 219,
   "metadata": {},
   "outputs": [
    {
     "data": {
      "text/plain": [
       "Counter({'The Times of India': 67,\n",
       "         'Indian Express': 93,\n",
       "         'The Hindu': 62,\n",
       "         'News18': 18,\n",
       "         'NDTV': 7,\n",
       "         'DDNews': 25,\n",
       "         'The Quint': 6,\n",
       "         'Times Now': 5,\n",
       "         'The Print': 5,\n",
       "         'Hindustan Times': 58,\n",
       "         'India Today': 15,\n",
       "         'Organizer': 1,\n",
       "         'Deccan Chronicle': 1,\n",
       "         'Republic TV': 8,\n",
       "         'The Statesman': 50,\n",
       "         'Reuters': 48,\n",
       "         'The Telegraph': 11,\n",
       "         'Zee News': 21,\n",
       "         'Independent': 1,\n",
       "         'OpIndia': 1})"
      ]
     },
     "execution_count": 219,
     "metadata": {},
     "output_type": "execute_result"
    }
   ],
   "source": [
    "reliable_articles=articles_data[articles_data['Reliability Label']=='Reliable']\n",
    "sources_count=Counter(reliable_articles['Source'])\n",
    "sources_count"
   ]
  },
  {
   "cell_type": "code",
   "execution_count": 218,
   "metadata": {},
   "outputs": [
    {
     "data": {
      "text/plain": [
       "Counter({'The Times of India': 67,\n",
       "         'Indian Express': 93,\n",
       "         'The Hindu': 62,\n",
       "         'News18': 18,\n",
       "         'NDTV': 7,\n",
       "         'DDNews': 25,\n",
       "         'The Quint': 6,\n",
       "         'Times Now': 5,\n",
       "         'The Print': 5,\n",
       "         'Hindustan Times': 58,\n",
       "         'India Today': 15,\n",
       "         'Organizer': 1,\n",
       "         'Deccan Chronicle': 1,\n",
       "         'Republic TV': 8,\n",
       "         'The Statesman': 50,\n",
       "         'Reuters': 48,\n",
       "         'The Telegraph': 11,\n",
       "         'Zee News': 21,\n",
       "         'Independent': 1,\n",
       "         'OpIndia': 1})"
      ]
     },
     "execution_count": 218,
     "metadata": {},
     "output_type": "execute_result"
    }
   ],
   "source": []
  }
 ],
 "metadata": {
  "kernelspec": {
   "display_name": "Python 3",
   "language": "python",
   "name": "python3"
  },
  "language_info": {
   "codemirror_mode": {
    "name": "ipython",
    "version": 3
   },
   "file_extension": ".py",
   "mimetype": "text/x-python",
   "name": "python",
   "nbconvert_exporter": "python",
   "pygments_lexer": "ipython3",
   "version": "3.7.4"
  }
 },
 "nbformat": 4,
 "nbformat_minor": 2
}
