{
 "cells": [
  {
   "cell_type": "code",
   "execution_count": 268,
   "metadata": {},
   "outputs": [],
   "source": [
    "import pandas as pd\n",
    "import re\n",
    "import nltk\n",
    "from nltk.stem import WordNetLemmatizer \n",
    "from nltk.corpus import stopwords\n",
    "from nltk.corpus import words\n",
    "from nltk.corpus import wordnet \n",
    "from collections import Counter,OrderedDict\n",
    "from sklearn.metrics.pairwise import cosine_similarity\n",
    "from nltk.tokenize import sent_tokenize,word_tokenize\n",
    "import numpy as np\n",
    "from sklearn.feature_extraction.text import TfidfVectorizer\n",
    "from sklearn.metrics.pairwise import linear_kernel\n",
    "import enchant\n",
    "from vaderSentiment.vaderSentiment import SentimentIntensityAnalyzer\n",
    "from newspaper import Article\n",
    "import statistics\n",
    "from sklearn.preprocessing import MinMaxScaler"
   ]
  },
  {
   "cell_type": "code",
   "execution_count": 269,
   "metadata": {
    "collapsed": true
   },
   "outputs": [],
   "source": [
    "caacluster0=pd.DataFrame(pd.read_csv(\"../data/caa_nrc_cluster_0.csv\"))\n",
    "caacluster1=pd.DataFrame(pd.read_csv(\"../data/caa_nrc_cluster_1.csv\"))\n",
    "caacluster2=pd.DataFrame(pd.read_csv(\"../data/caa_nrc_cluster_2.csv\"))\n",
    "covidcluster0=pd.DataFrame(pd.read_csv(\"../data/covid_cluster_0.csv\"))\n",
    "covidcluster1=pd.DataFrame(pd.read_csv(\"../data/covid_cluster_1.csv\"))\n",
    "covidcluster2=pd.DataFrame(pd.read_csv(\"../data/covid_cluster_2.csv\"))"
   ]
  },
  {
   "cell_type": "code",
   "execution_count": 270,
   "metadata": {
    "collapsed": true
   },
   "outputs": [],
   "source": [
    "caacluster0['Text']=caacluster0['Text'].astype(str)\n",
    "caacluster1['Text']=caacluster1['Text'].astype(str)\n",
    "caacluster2['Text']=caacluster2['Text'].astype(str)\n",
    "covidcluster0['Text']=covidcluster0['Text'].astype(str)\n",
    "covidcluster1['Text']=covidcluster1['Text'].astype(str)\n",
    "covidcluster2['Text']=covidcluster2['Text'].astype(str)"
   ]
  },
  {
   "cell_type": "code",
   "execution_count": 271,
   "metadata": {
    "collapsed": true
   },
   "outputs": [],
   "source": [
    "caaArticles0=[]\n",
    "caaArticles1=[]\n",
    "caaArticles2=[]\n",
    "covidArticles0=[]\n",
    "covidArticles1=[]\n",
    "covidArticles2=[]\n",
    "for i in caacluster0.index:\n",
    "    text=caacluster0['Text'][i]\n",
    "    caaArticles0.append(text)\n",
    "for i in caacluster1.index:\n",
    "    text=caacluster1['Text'][i]\n",
    "    caaArticles1.append(text)\n",
    "for i in caacluster2.index:\n",
    "    text=caacluster2['Text'][i]\n",
    "    caaArticles2.append(text)\n",
    "for i in covidcluster0.index:\n",
    "    text=covidcluster0['Text'][i]\n",
    "    covidArticles0.append(text)\n",
    "for i in covidcluster1.index:\n",
    "    text=covidcluster1['Text'][i]\n",
    "    covidArticles1.append(text)\n",
    "for i in covidcluster2.index:\n",
    "    text=covidcluster2['Text'][i]\n",
    "    covidArticles2.append(text)"
   ]
  },
  {
   "cell_type": "code",
   "execution_count": 275,
   "metadata": {
    "collapsed": true
   },
   "outputs": [],
   "source": [
    "def sentiment_scores(text): \n",
    "    sid_obj = SentimentIntensityAnalyzer()  \n",
    "    sentiment_dict = sid_obj.polarity_scores(text)    \n",
    "    return sentiment_dict['compound']"
   ]
  },
  {
   "cell_type": "code",
   "execution_count": 276,
   "metadata": {},
   "outputs": [
    {
     "name": "stderr",
     "output_type": "stream",
     "text": [
      "C:\\Users\\Samantha Lobo\\Anaconda3\\lib\\site-packages\\ipykernel_launcher.py:11: SettingWithCopyWarning: \n",
      "A value is trying to be set on a copy of a slice from a DataFrame\n",
      "\n",
      "See the caveats in the documentation: http://pandas.pydata.org/pandas-docs/stable/indexing.html#indexing-view-versus-copy\n",
      "  # This is added back by InteractiveShellApp.init_path()\n"
     ]
    }
   ],
   "source": [
    "caacluster0[\"sentiment\"]=\"\"\n",
    "caacluster1[\"sentiment\"]=\"\"\n",
    "caacluster2[\"sentiment\"]=\"\"\n",
    "covidcluster0[\"sentiment\"]=\"\"\n",
    "covidcluster1[\"sentiment\"]=\"\"\n",
    "covidcluster2[\"sentiment\"]=\"\"\n",
    "\n",
    "for i in range(len(caaArticles0)):\n",
    "    article_title = caacluster0['Title'].iloc[i]\n",
    "    article_text = caacluster0['Text'].iloc[i]    \n",
    "    caacluster0['sentiment'][i] = sentiment_scores(article_text)\n",
    "for i in range(len(caaArticles1)):\n",
    "    article_title = caacluster1['Title'].iloc[i]\n",
    "    article_text = caacluster1['Text'].iloc[i]    \n",
    "    caacluster1['sentiment'][i] = sentiment_scores(article_text)\n",
    "for i in range(len(caaArticles2)):\n",
    "    article_title = caacluster2['Title'].iloc[i]\n",
    "    article_text = caacluster2['Text'].iloc[i]    \n",
    "    caacluster2['sentiment'][i] = sentiment_scores(article_text)\n",
    "for i in range(len(covidArticles0)):\n",
    "    article_title = covidcluster0['Title'].iloc[i]\n",
    "    article_text = covidcluster0['Text'].iloc[i]    \n",
    "    covidcluster0['sentiment'][i] = sentiment_scores(article_text)\n",
    "for i in range(len(covidArticles1)):\n",
    "    article_title =covidcluster1['Title'].iloc[i]\n",
    "    article_text = covidcluster1['Text'].iloc[i]    \n",
    "    covidcluster1['sentiment'][i] = sentiment_scores(article_text)\n",
    "for i in range(len(covidArticles2)):\n",
    "    article_title = covidcluster2['Title'].iloc[i]\n",
    "    article_text = covidcluster2['Text'].iloc[i]    \n",
    "    covidcluster2['sentiment'][i] = sentiment_scores(article_text)"
   ]
  },
  {
   "cell_type": "code",
   "execution_count": 277,
   "metadata": {},
   "outputs": [],
   "source": [
    "sentimentcaa0=caacluster0['sentiment']\n",
    "sentimentcaa1=caacluster1['sentiment']\n",
    "sentimentcaa2=caacluster2['sentiment']\n",
    "sentimentcovid0=covidcluster0['sentiment']\n",
    "sentimentcovid1=covidcluster1['sentiment']\n",
    "sentimentcovid2=covidcluster2['sentiment']"
   ]
  },
  {
   "cell_type": "code",
   "execution_count": 288,
   "metadata": {},
   "outputs": [],
   "source": [
    "def computePopulationBalanceScoreHistoMean(articleScoreDict):\n",
    "    articleValues=articleScoreDict\n",
    "    neutrality=[]\n",
    "  #  caacluster0[\"neutrality\"]=\"\"\n",
    "   # print(articleValues)\n",
    "    scaler= MinMaxScaler()\n",
    "    scaler.fit(np.asarray(articleValues))\n",
    "    a=scaler.transform(articleValues)\n",
    "    \n",
    "    mean=np.mean(a)\n",
    "   # print(mean)\n",
    "    for i in a:\n",
    "        diff=(abs(mean-i)**2)\n",
    "        neutrality.append(diff)\n",
    "    covidcluster2['neutrality']=neutrality\n",
    "    \n",
    "   # caacluster0.to_csv(\"caa_nrc_cluster_0.csv\") \n",
    "   # caacluster1.to_csv(\"caa_nrc_cluster_1.csv\") \n",
    "   # caacluster2.to_csv(\"caa_nrc_cluster_2.csv\")\n",
    "   # covidcluster2.to_csv(\"covid_cluster_2.csv\")"
   ]
  },
  {
   "cell_type": "code",
   "execution_count": 289,
   "metadata": {
    "scrolled": true
   },
   "outputs": [
    {
     "name": "stderr",
     "output_type": "stream",
     "text": [
      "C:\\Users\\Samantha Lobo\\Anaconda3\\lib\\site-packages\\sklearn\\utils\\validation.py:429: DataConversionWarning: Data with input dtype object was converted to float64 by MinMaxScaler.\n",
      "  warnings.warn(msg, _DataConversionWarning)\n",
      "C:\\Users\\Samantha Lobo\\Anaconda3\\lib\\site-packages\\sklearn\\preprocessing\\data.py:321: DeprecationWarning: Passing 1d arrays as data is deprecated in 0.17 and will raise ValueError in 0.19. Reshape your data either using X.reshape(-1, 1) if your data has a single feature or X.reshape(1, -1) if it contains a single sample.\n",
      "  warnings.warn(DEPRECATION_MSG_1D, DeprecationWarning)\n",
      "C:\\Users\\Samantha Lobo\\Anaconda3\\lib\\site-packages\\sklearn\\preprocessing\\data.py:356: DeprecationWarning: Passing 1d arrays as data is deprecated in 0.17 and will raise ValueError in 0.19. Reshape your data either using X.reshape(-1, 1) if your data has a single feature or X.reshape(1, -1) if it contains a single sample.\n",
      "  warnings.warn(DEPRECATION_MSG_1D, DeprecationWarning)\n"
     ]
    }
   ],
   "source": [
    "#computePopulationBalanceScoreHistoMean(sentimentcaa0)\n",
    "#computePopulationBalanceScoreHistoMean(sentimentcaa1)\n",
    "#computePopulationBalanceScoreHistoMean(sentimentcaa2)\n",
    "#computePopulationBalanceScoreHistoMean(sentimentcovid0)\n",
    "#computePopulationBalanceScoreHistoMean(sentimentcovid1)\n",
    "#computePopulationBalanceScoreHistoMean(sentimentcovid2)\n"
   ]
  }
 ],
 "metadata": {
  "kernelspec": {
   "display_name": "Python 3",
   "language": "python",
   "name": "python3"
  },
  "language_info": {
   "codemirror_mode": {
    "name": "ipython",
    "version": 3
   },
   "file_extension": ".py",
   "mimetype": "text/x-python",
   "name": "python",
   "nbconvert_exporter": "python",
   "pygments_lexer": "ipython3",
   "version": "3.7.4"
  }
 },
 "nbformat": 4,
 "nbformat_minor": 2
}
