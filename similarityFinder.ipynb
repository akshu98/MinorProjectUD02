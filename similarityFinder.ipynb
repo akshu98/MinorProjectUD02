{
 "cells": [
  {
   "cell_type": "code",
   "execution_count": 1,
   "metadata": {},
   "outputs": [],
   "source": [
    "import pandas as pd\n",
    "from newspaper import Article\n",
    "import re\n",
    "from nltk.stem import WordNetLemmatizer \n",
    "from nltk.corpus import stopwords\n",
    "from collections import Counter,OrderedDict\n",
    "from sklearn.metrics.pairwise import cosine_similarity\n",
    "import numpy as np\n",
    "from sklearn.feature_extraction.text import TfidfVectorizer\n",
    "from sklearn.metrics.pairwise import linear_kernel"
   ]
  },
  {
   "cell_type": "code",
   "execution_count": 30,
   "metadata": {
    "scrolled": true
   },
   "outputs": [
    {
     "name": "stdout",
     "output_type": "stream",
     "text": [
      "https://www.ndtv.com/india-news/unemployment-rate-highest-in-45-years-reveals-stalled-report-on-jobs-10-points-1985931\n",
      "https://www.ndtv.com/business/13-million-jobs-created-in-2017-member-of-economic-advisory-council-1882942\n",
      "\n",
      "\n"
     ]
    }
   ],
   "source": [
    "f = open(\"news articles/articles.txt\",\"r\")\n",
    "LOA = [line.rstrip() for line in f]\n",
    "df = pd.DataFrame(columns = ['Title','Text','URL','Cleaned_text'])\n",
    "for url in LOA: \n",
    "    try:\n",
    "        news_article = Article(url, language=\"en\")     \n",
    "        news_article.download() \n",
    "        news_article.parse() \n",
    "        news_article.nlp() \n",
    "        df2={'Title':news_article.title,'Text':news_article.text,'URL':url}\n",
    "        df=df.append(df2,ignore_index=True)\n",
    "    \n",
    "    except Exception:\n",
    "        print(url)\n",
    "        \n",
    "        \n",
    "df.to_csv(\"news articles/parsed_news_articles.csv\",encoding=\"utf-8\")"
   ]
  },
  {
   "cell_type": "code",
   "execution_count": 31,
   "metadata": {},
   "outputs": [],
   "source": [
    "def preprocessor(df):\n",
    "    lemmatizer = WordNetLemmatizer() \n",
    "    stop_words = stopwords.words('english')\n",
    "    text=df['Text']\n",
    "    titles=df['Title']\n",
    "    cleanedArticles=[]\n",
    "    count=0\n",
    "    spcl= '[-,;@_!#$%^&*()<>?/\\|}{~:''.+]'\n",
    "    for i in text:\n",
    "        i = i.lower()\n",
    "        i = re.sub(r'[^\\x00-\\x7F]+',' ', i)\n",
    "        i = re.sub('^a-z0-9',' ',i)\n",
    "        i = re.sub(spcl,' ',i)\n",
    "        i = re.sub('[0-9]',' ',i)\n",
    "        i = re.sub('\\n\\n',' ',i)\n",
    "        i = re.sub('\\s\\s',' ',i)\n",
    "        v = i.split(' ')\n",
    "        v = [word for word in v if word not in stop_words]\n",
    "        v = [lemmatizer.lemmatize(word) for word in v]\n",
    "        temp = ' '.join(v)\n",
    "        df['Cleaned_text'][count]=temp\n",
    "        cleanedArticles.append(temp)\n",
    "        count = count + 1\n",
    "    return cleanedArticles"
   ]
  },
  {
   "cell_type": "code",
   "execution_count": 32,
   "metadata": {},
   "outputs": [],
   "source": [
    "cleanedArticles=preprocessor(df)"
   ]
  },
  {
   "cell_type": "code",
   "execution_count": 44,
   "metadata": {},
   "outputs": [
    {
     "name": "stdout",
     "output_type": "stream",
     "text": [
      "713\n"
     ]
    }
   ],
   "source": [
    "print(len(cleanedArticles))"
   ]
  },
  {
   "cell_type": "code",
   "execution_count": 43,
   "metadata": {},
   "outputs": [
    {
     "name": "stdout",
     "output_type": "stream",
     "text": [
      "0      since employment unemployment figure always es...\n",
      "1      suggested india unemployment woe solved boosti...\n",
      "2      deeper level acceptance self exploitation form...\n",
      "3      much labour force shifting agriculture        ...\n",
      "4      amazon invest usd  bn digitising indian smbs j...\n",
      "5      modi government assumed problem crystallised t...\n",
      "6      know nature incidence unemployment example dif...\n",
      "7      investment measured gross fixed capital format...\n",
      "8      state wise breakup year age group showed femal...\n",
      "9       slow growth scarcity non farm job rising open...\n",
      "10     unemployment rate india rose   percent februar...\n",
      "11     said limit big industry offer job well service...\n",
      "12     came first editorial sena mouthpiece saamana p...\n",
      "13     industry sick youth looking govt job industry ...\n",
      "14     working class may share concern even vote acco...\n",
      "15     decline actual number occurred first time sinc...\n",
      "16     prime minister narendra modi attends first day...\n",
      "17     clear charge policy change made cabinet mute s...\n",
      "18      farmer distress country currently given agrar...\n",
      "19     new delhi sharp attack narendra modi governmen...\n",
      "20     hope despair quick descent year draw close sen...\n",
      "21     indian economy witnessing slowdown longer matt...\n",
      "22     new delhi leader ruling bharatiya janata party...\n",
      "23     could best budget india past decade shortest i...\n",
      "24     india precarious economic situation everyone w...\n",
      "25     raghuram rajan outgoing governor reserve bank ...\n",
      "26     mysuru tumakuru ballari karnataka mud bamboo a...\n",
      "27     long run perspective often produce insight rem...\n",
      "28        india got two budget thanks general electio...\n",
      "29     last week caused ripple india political econom...\n",
      "                             ...                        \n",
      "683    fund channelled smaller business could given l...\n",
      "684    increased excise revenue oil used bridging fis...\n",
      "685    former cji ranjan gogoi president nominating a...\n",
      "686     better budget jammu kashmir could discussed a...\n",
      "687    agency earlier projected growth rate   per cen...\n",
      "688    bhattacharya   based mumbai join april  pti u ...\n",
      "689    till january      fall employment generation f...\n",
      "690    ranjan gogoi served  th cji october   november...\n",
      "691    randeep singh surjewala questioned modi govern...\n",
      "692    last date submit application march      broadc...\n",
      "693    author introduce reader approach manufacturing...\n",
      "694    many  student campus picked six month project ...\n",
      "695    last date submit online application april     ...\n",
      "696     sad news congress party jyotiraditya scindia ...\n",
      "697    government would soon create land bank    acre...\n",
      "698    series tweet modi said india outstanding woman...\n",
      "699    former deputy chairman planning commission mon...\n",
      "700    delhi textile export halved   mn fy  mere   fy...\n",
      "701      edition woman rally valley intriguing entry ...\n",
      "702    employee state insurance corporation esic wedn...\n",
      "703    people around world electing leader like naren...\n",
      "704     severe underemployment unemployment serious p...\n",
      "705    around    lakh job created december      lakh ...\n",
      "706    congress sunday promised implement unemploymen...\n",
      "707    congress saturday said union budget lacking st...\n",
      "708    day budget session party meeting convened gove...\n",
      "709    exclusive interview ani prime minister narendr...\n",
      "710    union budget   presented parliament friday fir...\n",
      "711    congress vice president rahul gandhi asked gov...\n",
      "712    interview rajya sabha tv ideologue  bjp nation...\n",
      "Name: Cleaned_text, Length: 713, dtype: object\n"
     ]
    }
   ],
   "source": [
    "print (df['Cleaned_text'])"
   ]
  },
  {
   "cell_type": "code",
   "execution_count": 35,
   "metadata": {},
   "outputs": [],
   "source": [
    "#Testing\n",
    "f = open(\"news articles/test_articles.txt\",\"r\")\n",
    "LOA = [line.rstrip() for line in f]\n",
    "test_df = pd.DataFrame(columns = ['Title','Text','URL','Cleaned_text'])\n",
    "for url in LOA: \n",
    "    news_article = Article(url, language=\"en\")     \n",
    "    news_article.download() \n",
    "    news_article.parse() \n",
    "    news_article.nlp() \n",
    "    df2={'Title':news_article.title,'Text':news_article.text}\n",
    "    test_df=test_df.append(df2,ignore_index=True)\n",
    "\n",
    "test_df.to_csv(\"news articles/parsed_test_articles.csv\",encoding=\"utf-8\")\n",
    "cleanedTestArticles=preprocessor(test_df)"
   ]
  },
  {
   "cell_type": "code",
   "execution_count": 63,
   "metadata": {},
   "outputs": [],
   "source": [
    "def vectorize_sim_search(query, data):\n",
    "    #Inserting query in list position 0\n",
    "    cos_sim=[]\n",
    "    #data = query + cleanedArticles\n",
    "    tfidf_vectorizer = TfidfVectorizer()\n",
    "    dataMatrixAll = []\n",
    "  \n",
    "    for i in range(len(query)):\n",
    "        query_i = query[i]\n",
    "        print(\"MAIN ARTICLE:\\n\",query_i[0:len(query_i)//20],\"....\",\"\\n\\n\\n\")\n",
    "        print(\"RELATED ARTICLES:\\n\")\n",
    "        data = [query[i]]+cleanedArticles\n",
    "        dataMatrix = {}\n",
    "        tfidf_matrix = tfidf_vectorizer.fit_transform(data)\n",
    "        vals = cosine_similarity(tfidf_matrix[i], tfidf_matrix)[0]\n",
    "        \n",
    "        for j in range(len(data)-1):\n",
    "            dataMatrix[df['URL'][j]]=vals[j+1]\n",
    "        key_list = list(dataMatrix.keys()) \n",
    "        val_list = list(dataMatrix.values()) \n",
    "        sorted_vals = sorted(vals,reverse=True)[1:5]\n",
    "        for i in sorted_vals:\n",
    "            temp=key_list[val_list.index(i)]\n",
    "            print(temp,\"....\",\"\\tsimilarity score:\",i,\"\\n\")\n",
    "        print(\"-------------------------------------------------------------------------------------------\")"
   ]
  },
  {
   "cell_type": "code",
   "execution_count": 37,
   "metadata": {},
   "outputs": [
    {
     "name": "stdout",
     "output_type": "stream",
     "text": [
      "['nsso\\'s annual household survey     first demonetisation   highlight unemployment rate       highest  year reveals survey report released despite statistical body go ahead allege ex member survey centre row quitting  member statistical body  point cheat sheet big story according report made public accessed business standard unemployment rate highest level since     report say     unemployment rate stood   per cent youth unemployment \"astronomically high\" level   per cent joblessness higher urban area   per cent rural area   per cent  people withdrawing workforce labour force participation rate lower previous year nsso\\'s annual household survey     first november   demonetisation prime minister narendra modi declared overnight ban high value note report core controversy quitting two member national statistical commission including acting chairman pc mohanan pc mohanan confirmed one reason quit delay release national sample survey office\\'s periodic labour force survey report pc mohanan told ndtv jv meenakshi non government member statistic body felt sidelined \"not taken seriously\" government today said \"timing verification done\" added \"we process explained member \" agree data showed job reduced  comment country\\'s unemployment rate  year high   per cent     according national sample survey office\\'s nsso\\'s periodic labour force survey plf  accessed business standard newspaper report released despite vetted national statistical commission december allege two non independent member quit data collating body tuesday government said today \"we explained member decision release report decide happen \" report revealed day government\\'s interim budget set huge controversy national election due may opposition targeting government job data ']\n"
     ]
    }
   ],
   "source": [
    "print(cleanedTestArticles)"
   ]
  },
  {
   "cell_type": "code",
   "execution_count": 64,
   "metadata": {
    "scrolled": true
   },
   "outputs": [
    {
     "name": "stdout",
     "output_type": "stream",
     "text": [
      "MAIN ARTICLE:\n",
      " nsso's annual household survey     first demonetisation   highlight unemployment rate   .... \n",
      "\n",
      "\n",
      "\n",
      "RELATED ARTICLES:\n",
      "\n",
      "http://www.jantakareporter.com/india/unemployment-rate-in-india-highest-for-45-years-reason-why-modi-government-refused-to-release-nsso-report/229882/ .... \tsimilarity score: 0.4853332211066227 \n",
      "\n",
      "https://www.thestatesman.com/india/nsso-job-report-high-unemployment-rate-not-final-niti-aayog-1502729133.html .... \tsimilarity score: 0.44440793210561436 \n",
      "\n",
      "https://scroll.in/latest/925501/centre-releases-report-that-showed-unemployment-rose-to-45-year-high-of-6-1-in-2017-18 .... \tsimilarity score: 0.41614316831116593 \n",
      "\n",
      "https://www.deccanchronicle.com/business/in-other-news/310119/unemployment-rate-highest-in-45-years-shows-centres-buried.html .... \tsimilarity score: 0.40584870713619015 \n",
      "\n",
      "-------------------------------------------------------------------------------------------\n"
     ]
    }
   ],
   "source": [
    "vectorize_sim_search(cleanedTestArticles,cleanedArticles)"
   ]
  },
  {
   "cell_type": "code",
   "execution_count": null,
   "metadata": {},
   "outputs": [],
   "source": []
  }
 ],
 "metadata": {
  "kernelspec": {
   "display_name": "Python 3",
   "language": "python",
   "name": "python3"
  },
  "language_info": {
   "codemirror_mode": {
    "name": "ipython",
    "version": 3
   },
   "file_extension": ".py",
   "mimetype": "text/x-python",
   "name": "python",
   "nbconvert_exporter": "python",
   "pygments_lexer": "ipython3",
   "version": "3.7.1"
  }
 },
 "nbformat": 4,
 "nbformat_minor": 2
}
