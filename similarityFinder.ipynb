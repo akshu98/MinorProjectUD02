{
 "cells": [
  {
   "cell_type": "code",
   "execution_count": 66,
   "metadata": {},
   "outputs": [],
   "source": [
    "import pandas as pd\n",
    "from newspaper import Article\n",
    "import re\n",
    "from nltk.stem import WordNetLemmatizer \n",
    "from nltk.corpus import stopwords\n",
    "from collections import Counter\n",
    "from sklearn.metrics.pairwise import cosine_similarity\n",
    "import numpy as np\n",
    "from sklearn.feature_extraction.text import TfidfVectorizer\n",
    "from sklearn.metrics.pairwise import linear_kernel"
   ]
  },
  {
   "cell_type": "code",
   "execution_count": 58,
   "metadata": {
    "scrolled": true
   },
   "outputs": [],
   "source": [
    "f = open(\"news articles/articles.txt\",\"r\")\n",
    "LOA = [line.rstrip() for line in f]\n",
    "df = pd.DataFrame(columns = ['Title','Text'])\n",
    "for url in LOA: \n",
    "    news_article = Article(url, language=\"en\")     \n",
    "    news_article.download() \n",
    "    news_article.parse() \n",
    "    news_article.nlp() \n",
    "    df2={'Title':news_article.title,'Text':news_article.text}\n",
    "    df=df.append(df2,ignore_index=True)\n",
    "\n",
    "df.to_csv(\"news articles/parsed_news_articles.csv\",encoding=\"utf-8\")"
   ]
  },
  {
   "cell_type": "code",
   "execution_count": 72,
   "metadata": {},
   "outputs": [],
   "source": [
    "def preprocessor(df):\n",
    "    lemmatizer = WordNetLemmatizer() \n",
    "    stop_words = stopwords.words('english')\n",
    "    text=df['Text']\n",
    "    titles=df['Title']\n",
    "    cleanedArticles=[]\n",
    "    spcl= '[-,;@_!#$%^&*()<>?/\\|}{~:''.+]'\n",
    "    for i in text:\n",
    "        i = i.lower()\n",
    "        i = re.sub(r'[^\\x00-\\x7F]+',' ', i)\n",
    "        i = re.sub('^a-z0-9',' ',i)\n",
    "        i = re.sub(spcl,' ',i)\n",
    "        i = re.sub('[0-9]',' ',i)\n",
    "        i = re.sub('\\n\\n',' ',i)\n",
    "        i = re.sub('\\s\\s',' ',i)\n",
    "        v = i.split(' ')\n",
    "        v = [word for word in v if word not in stop_words]\n",
    "        v = [lemmatizer.lemmatize(word) for word in v]\n",
    "        temp = ' '.join(v)\n",
    "        cleanedArticles.append(temp)\n",
    "    return cleanedArticles"
   ]
  },
  {
   "cell_type": "code",
   "execution_count": 80,
   "metadata": {},
   "outputs": [],
   "source": [
    "cleanedArticles=preprocessor(df)"
   ]
  },
  {
   "cell_type": "code",
   "execution_count": 81,
   "metadata": {},
   "outputs": [],
   "source": [
    "#Testing\n",
    "f = open(\"news articles/test_articles.txt\",\"r\")\n",
    "LOA = [line.rstrip() for line in f]\n",
    "test_df = pd.DataFrame(columns = ['Title','Text'])\n",
    "for url in LOA: \n",
    "    news_article = Article(url, language=\"en\")     \n",
    "    news_article.download() \n",
    "    news_article.parse() \n",
    "    news_article.nlp() \n",
    "    df2={'Title':news_article.title,'Text':news_article.text}\n",
    "    test_df=test_df.append(df2,ignore_index=True)\n",
    "\n",
    "test_df.to_csv(\"news articles/parsed_test_articles.csv\",encoding=\"utf-8\")\n",
    "cleanedTestArticles=preprocessor(test_df)"
   ]
  },
  {
   "cell_type": "code",
   "execution_count": 82,
   "metadata": {},
   "outputs": [],
   "source": [
    "def vectorize_sim_search(query, data):\n",
    "    \"\"\"\n",
    "    query: `str`\n",
    "    data: `list` of strings\n",
    "    stop_words: `list` of stop words (default is \"english\" from SKlearn)\n",
    "    \n",
    "    Returns:\n",
    "    cos_sim: first element from `cosine_similarity` array\n",
    "    tfidf_vectorizer: `TfidfVectorizer object`\n",
    "    data: updated `data` with `query` in position 0\n",
    "    \"\"\"\n",
    "    #Inserting query in list position 0\n",
    "    cos_sim=[]\n",
    "    data = query + cleanedArticles\n",
    "    tfidf_vectorizer = TfidfVectorizer()\n",
    "    tfidf_matrix = tfidf_vectorizer.fit_transform(data)\n",
    "    for i in range(len(query)):\n",
    "        val = cosine_similarity(tfidf_matrix[i], tfidf_matrix)\n",
    "        cos_sim.append(val)\n",
    "    return cos_sim"
   ]
  },
  {
   "cell_type": "code",
   "execution_count": 84,
   "metadata": {},
   "outputs": [
    {
     "data": {
      "text/plain": [
       "[array([[1.        , 0.04273455, 0.06167823]])]"
      ]
     },
     "execution_count": 84,
     "metadata": {},
     "output_type": "execute_result"
    }
   ],
   "source": [
    "cos_sim=vectorize_sim_search(cleanedTestArticles,cleanedArticles)\n",
    "cos_sim"
   ]
  }
 ],
 "metadata": {
  "kernelspec": {
   "display_name": "Python 3",
   "language": "python",
   "name": "python3"
  },
  "language_info": {
   "codemirror_mode": {
    "name": "ipython",
    "version": 3
   },
   "file_extension": ".py",
   "mimetype": "text/x-python",
   "name": "python",
   "nbconvert_exporter": "python",
   "pygments_lexer": "ipython3",
   "version": "3.7.1"
  }
 },
 "nbformat": 4,
 "nbformat_minor": 2
}
